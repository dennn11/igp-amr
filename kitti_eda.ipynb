{
 "cells": [
  {
   "cell_type": "code",
   "execution_count": 37,
   "metadata": {},
   "outputs": [],
   "source": [
    "import numpy as np\n",
    "import pandas as pd\n",
    "import os\n",
    "import matplotlib.pyplot as plt\n",
    "from mpl_toolkits.mplot3d import Axes3D"
   ]
  },
  {
   "cell_type": "code",
   "execution_count": 49,
   "metadata": {},
   "outputs": [],
   "source": [
    "%matplotlib inline"
   ]
  },
  {
   "cell_type": "code",
   "execution_count": 128,
   "metadata": {},
   "outputs": [],
   "source": [
    "velodyne = \"../Kitti dataset/velodyne_points\"\n",
    "data = velodyne + \"/data/\"\n",
    "timestamp = velodyne + \"/timestamps.txt\""
   ]
  },
  {
   "cell_type": "code",
   "execution_count": 129,
   "metadata": {},
   "outputs": [],
   "source": [
    "timestamp_list = pd.read_csv(timestamp, sep=\" \", header=None, names=['date', 'time'])\n",
    "timestamp_list[\"time\"] = timestamp_list[\"time\"].str[-12:].astype(float).round(3)\n",
    "timestamp_list[\"file_directory\"] = os.listdir(data)\n",
    "timestamp_list = timestamp_list.drop(\"date\", axis=1)"
   ]
  },
  {
   "cell_type": "code",
   "execution_count": 134,
   "metadata": {},
   "outputs": [],
   "source": [
    "lidar_series = []\n",
    "for file_dir in timestamp_list[\"file_directory\"]:\n",
    "    file_directory = data + file_dir\n",
    "    lidar_series.append(np.loadtxt(file_directory))"
   ]
  },
  {
   "cell_type": "code",
   "execution_count": 126,
   "metadata": {},
   "outputs": [],
   "source": [
    "def txt_to_dataframe(file_path):\n",
    "    with open(file_path, 'r') as file:\n",
    "        lines = file.readlines()\n",
    "    data = [list(map(float, line.strip().split())) for line in lines]\n",
    "    df = pd.DataFrame(data, columns=['x', 'y', 'z', 'reflectance'])\n",
    "    return df\n",
    "\n",
    "def plot_3d_points(points, dot_size=50, elevation=30, azimuth=30):\n",
    "    x, y, z = zip(*points)\n",
    "    fig = plt.figure(figsize=(12, 12))\n",
    "    # fig.subplots_adjust(left=0.1, right=0.2, top=0.2, bottom=0.1)\n",
    "    ax = fig.add_subplot(111, projection='3d')\n",
    "    norm_z = (z - min(z)) / (max(z) - min(z))\n",
    "    ax.scatter(x, y, z, c=norm_z, cmap='viridis', s=dot_size, marker='o')\n",
    "    ax.set_xlabel('X')\n",
    "    ax.set_ylabel('Y')\n",
    "    ax.set_zlabel('Z')\n",
    "    ax.view_init(elev=elevation, azim=azimuth)\n",
    "    plt.show()\n"
   ]
  },
  {
   "cell_type": "code",
   "execution_count": 78,
   "metadata": {},
   "outputs": [],
   "source": []
  },
  {
   "cell_type": "code",
   "execution_count": null,
   "metadata": {},
   "outputs": [],
   "source": []
  }
 ],
 "metadata": {
  "kernelspec": {
   "display_name": "AMREnv",
   "language": "python",
   "name": "python3"
  },
  "language_info": {
   "codemirror_mode": {
    "name": "ipython",
    "version": 3
   },
   "file_extension": ".py",
   "mimetype": "text/x-python",
   "name": "python",
   "nbconvert_exporter": "python",
   "pygments_lexer": "ipython3",
   "version": "3.11.6"
  }
 },
 "nbformat": 4,
 "nbformat_minor": 2
}
