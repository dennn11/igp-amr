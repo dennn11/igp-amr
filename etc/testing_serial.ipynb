{
 "cells": [
  {
   "cell_type": "code",
   "execution_count": 22,
   "metadata": {},
   "outputs": [],
   "source": [
    "import serial\n",
    "import time\n",
    "import re"
   ]
  },
  {
   "cell_type": "code",
   "execution_count": 23,
   "metadata": {},
   "outputs": [],
   "source": [
    "port = \"COM8\"\n",
    "baud_rate = 128000\n",
    "data_bits = 8\n",
    "stop_bits = 1\n",
    "parity = serial.PARITY_NONE\n",
    "\n",
    "lidar_command = {\n",
    "    \"start_scan\":\"A5 60\", \n",
    "    \"stop_scan\":\"A5 65\", \n",
    "    \"get_info\":\"A5 90\", \n",
    "    \"get_health\":\"A5 91\", \n",
    "    \"soft_restart\":\"A5 80\", \n",
    "}\n",
    "\n",
    "hex_re = re.compile(r'\\s+')"
   ]
  },
  {
   "cell_type": "code",
   "execution_count": 152,
   "metadata": {},
   "outputs": [],
   "source": [
    "class LidarResponse:\n",
    "    def __init__(self, response):\n",
    "        self.response_raw = response\n",
    "        self.response_list = self.split_response(self.response_raw)\n",
    "        self.n_response = len(self.response_list)\n",
    "                \n",
    "    def split_response(self, data):\n",
    "        content_groups = re.findall(r'(?s)AA55(.*?)AA55', data)\n",
    "        complete_groups = [group for group in content_groups if len(group) % 2 == 0]\n",
    "        complete_groups_with_delimiter = [\"AA55\" + group for group in complete_groups]\n",
    "        return complete_groups_with_delimiter\n",
    "\n",
    "    def convert_l_endian(self, data):\n",
    "        bytes_list = [data[i:i+2] for i in range(0, len(data), 2)]\n",
    "        little_endian_list = [bytes_list[i+1] + bytes_list[i] for i in range(0, len(bytes_list), 2)]\n",
    "        result_str = ''.join(little_endian_list)\n",
    "        return result_str"
   ]
  },
  {
   "cell_type": "code",
   "execution_count": 147,
   "metadata": {},
   "outputs": [],
   "source": [
    "def send_command(serial_object: serial.Serial, command: str):\n",
    "    if command in lidar_command:\n",
    "        command_hex = lidar_command[command]\n",
    "        data_bytes = bytes.fromhex(hex_re.sub('', command_hex))\n",
    "        serial_object.write(data_bytes)\n",
    "        response = serial_object.read_until().hex().upper()\n",
    "        return response\n",
    "    else:\n",
    "        return None"
   ]
  },
  {
   "cell_type": "code",
   "execution_count": 62,
   "metadata": {},
   "outputs": [],
   "source": [
    "ser = serial.Serial(\n",
    "    port, \n",
    "    baud_rate, \n",
    "    bytesize=data_bits, \n",
    "    parity=parity, \n",
    "    stopbits=stop_bits, \n",
    "    timeout=1\n",
    "    )"
   ]
  },
  {
   "cell_type": "code",
   "execution_count": 150,
   "metadata": {},
   "outputs": [
    {
     "data": {
      "text/plain": [
       "'00000000AA55000C8BAACBAD724600000000000000000000541A081AD819A81968190819D418AA5501011BAE1BAE7F4CD418AA55002869AEDF0510CEE418941884187C189018000000000000000000000000000000000000000000000000000000000000000000000000000000000000000000000000000000000000000000006C0370036C03680368036403AA55002825068F116A6860035D0361035903550355035103510351034D03490349034503450345034503410341033D033D0339033903390339033903390339033503350339030000760200002D032D0300000000000030033503AA550028DD11491D57723503390339033D033D033D034103410341034103410345034503490349034D034D034D035103550355035903590359036103610364036503680368036C03700374037403740378030000740300000000AA550028971D0D29344900000000000000000000000000000000000000000000000000000000000000000000000000000000000000000000000000000000000000000000000000000000190421042904000048063C0600006104AA5500285B29D134816E61045D045804000000000000F503000000000000000000000000D4169416000000005C174C17000000008018D81820190000EC0F0000CC0F880F940F1C10181028100000000000004C06440600000000AA550028153583402C0200000000000000007406500654065006580660066C06000000000000000000000000000000000000000000000000000000000000000000000000A806B806D406000000000000AC0A'"
      ]
     },
     "execution_count": 150,
     "metadata": {},
     "output_type": "execute_result"
    }
   ],
   "source": [
    "one_scan = send_command(ser, \"start_scan\")\n",
    "one_scan"
   ]
  },
  {
   "cell_type": "code",
   "execution_count": 87,
   "metadata": {},
   "outputs": [],
   "source": [
    "def split_response(response):\n",
    "    content_groups = re.findall(r'(?s)AA55(.*?)AA55', response)\n",
    "    complete_groups = [group for group in content_groups if len(group) % 2 == 0]\n",
    "    complete_groups_with_delimiter = [\"AA55\" + group for group in complete_groups]\n",
    "    return complete_groups_with_delimiter"
   ]
  },
  {
   "cell_type": "code",
   "execution_count": 121,
   "metadata": {},
   "outputs": [],
   "source": [
    "def bytes_to_little_endian(input_str):\n",
    "    bytes_list = [input_str[i:i+2] for i in range(0, len(input_str), 2)]\n",
    "    little_endian_list = [bytes_list[i+1] + bytes_list[i] for i in range(0, len(bytes_list), 2)]\n",
    "    result_str = ''.join(little_endian_list)\n",
    "    return result_str"
   ]
  },
  {
   "cell_type": "code",
   "execution_count": 108,
   "metadata": {},
   "outputs": [],
   "source": [
    "def print_bytes(data):\n",
    "    for i in range(0, len(data), 2):\n",
    "        byte = data[i:i+2]\n",
    "        print(f\"Byte {i//2}: {byte}\")"
   ]
  },
  {
   "cell_type": "code",
   "execution_count": 151,
   "metadata": {},
   "outputs": [
    {
     "data": {
      "text/plain": [
       "['AA55000C8BAACBAD724600000000000000000000541A081AD819A81968190819D418',\n",
       " 'AA55002869AEDF0510CEE418941884187C189018000000000000000000000000000000000000000000000000000000000000000000000000000000000000000000000000000000000000000000006C0370036C03680368036403',\n",
       " 'AA550028DD11491D57723503390339033D033D033D034103410341034103410345034503490349034D034D034D035103550355035903590359036103610364036503680368036C03700374037403740378030000740300000000',\n",
       " 'AA5500285B29D134816E61045D045804000000000000F503000000000000000000000000D4169416000000005C174C17000000008018D81820190000EC0F0000CC0F880F940F1C10181028100000000000004C06440600000000']"
      ]
     },
     "execution_count": 151,
     "metadata": {},
     "output_type": "execute_result"
    }
   ],
   "source": [
    "response = split_response(one_scan)\n",
    "response"
   ]
  },
  {
   "cell_type": "code",
   "execution_count": 126,
   "metadata": {},
   "outputs": [
    {
     "name": "stdout",
     "output_type": "stream",
     "text": [
      "Byte 0: 55\n",
      "Byte 1: AA\n",
      "Byte 2: 28\n",
      "Byte 3: 00\n",
      "Byte 4: 4C\n",
      "Byte 5: 81\n",
      "Byte 6: 58\n",
      "Byte 7: 05\n",
      "Byte 8: 6F\n",
      "Byte 9: 5B\n",
      "Byte 10: 00\n",
      "Byte 11: 00\n",
      "Byte 12: 00\n",
      "Byte 13: 00\n",
      "Byte 14: 05\n",
      "Byte 15: A4\n",
      "Byte 16: 05\n",
      "Byte 17: 90\n",
      "Byte 18: 05\n",
      "Byte 19: 7C\n",
      "Byte 20: 05\n",
      "Byte 21: 69\n",
      "Byte 22: 05\n",
      "Byte 23: 55\n",
      "Byte 24: 05\n",
      "Byte 25: 41\n",
      "Byte 26: 05\n",
      "Byte 27: 31\n",
      "Byte 28: 05\n",
      "Byte 29: 1D\n",
      "Byte 30: 05\n",
      "Byte 31: 0D\n",
      "Byte 32: 04\n",
      "Byte 33: FD\n",
      "Byte 34: 04\n",
      "Byte 35: ED\n",
      "Byte 36: 04\n",
      "Byte 37: DD\n",
      "Byte 38: 04\n",
      "Byte 39: CD\n",
      "Byte 40: 04\n",
      "Byte 41: BD\n",
      "Byte 42: 04\n",
      "Byte 43: B1\n",
      "Byte 44: 04\n",
      "Byte 45: A1\n",
      "Byte 46: 04\n",
      "Byte 47: 95\n",
      "Byte 48: 04\n",
      "Byte 49: 89\n",
      "Byte 50: 04\n",
      "Byte 51: 79\n",
      "Byte 52: 04\n",
      "Byte 53: 6D\n",
      "Byte 54: 04\n",
      "Byte 55: 65\n",
      "Byte 56: 04\n",
      "Byte 57: 59\n",
      "Byte 58: 04\n",
      "Byte 59: 4D\n",
      "Byte 60: 04\n",
      "Byte 61: 41\n",
      "Byte 62: 04\n",
      "Byte 63: 39\n",
      "Byte 64: 04\n",
      "Byte 65: 2D\n",
      "Byte 66: 04\n",
      "Byte 67: 25\n",
      "Byte 68: 04\n",
      "Byte 69: 1D\n",
      "Byte 70: 04\n",
      "Byte 71: 11\n",
      "Byte 72: 04\n",
      "Byte 73: 09\n",
      "Byte 74: 04\n",
      "Byte 75: 01\n",
      "Byte 76: 03\n",
      "Byte 77: F9\n",
      "Byte 78: 03\n",
      "Byte 79: F1\n",
      "Byte 80: 03\n",
      "Byte 81: E9\n",
      "Byte 82: 03\n",
      "Byte 83: E1\n",
      "Byte 84: 03\n",
      "Byte 85: D9\n",
      "Byte 86: 03\n",
      "Byte 87: D5\n",
      "Byte 88: 03\n",
      "Byte 89: CD\n"
     ]
    }
   ],
   "source": [
    "print_bytes(one_resp)"
   ]
  },
  {
   "cell_type": "code",
   "execution_count": 133,
   "metadata": {},
   "outputs": [],
   "source": [
    "def parse_hex_string(hex_str):\n",
    "    result_dict = {}\n",
    "    mappings = {'fsa': 8, 'lsa': 12, 'cs': 16}\n",
    "\n",
    "    for key, start_index in mappings.items():\n",
    "        end_index = start_index + 4\n",
    "        result_dict[key] = hex_str[start_index:end_index]\n",
    "\n",
    "    i = 1\n",
    "    while (start_index := 20 + (i - 1) * 4) < len(hex_str):\n",
    "        end_index = start_index + 4\n",
    "        result_dict[f's{i}'] = hex_str[start_index:end_index]\n",
    "        i += 1\n",
    "\n",
    "    return result_dict"
   ]
  },
  {
   "cell_type": "code",
   "execution_count": 138,
   "metadata": {},
   "outputs": [],
   "source": [
    "parsed_response = parse_hex_string(one_resp)\n",
    "fsa = parsed_response[\"fsa\"]\n",
    "lsa = parsed_response[\"lsa\"]"
   ]
  },
  {
   "cell_type": "code",
   "execution_count": 143,
   "metadata": {},
   "outputs": [],
   "source": [
    "def get_angle(hex_angle):\n",
    "    return (int(hex_angle, 16) >> 1)/ 64"
   ]
  },
  {
   "cell_type": "code",
   "execution_count": 145,
   "metadata": {},
   "outputs": [
    {
     "data": {
      "text/plain": [
       "(153.0, 176.03125)"
      ]
     },
     "execution_count": 145,
     "metadata": {},
     "output_type": "execute_result"
    }
   ],
   "source": [
    "get_angle(fsa), get_angle(lsa)"
   ]
  },
  {
   "cell_type": "code",
   "execution_count": 153,
   "metadata": {},
   "outputs": [],
   "source": [
    "ser.close()"
   ]
  },
  {
   "cell_type": "code",
   "execution_count": null,
   "metadata": {},
   "outputs": [],
   "source": []
  }
 ],
 "metadata": {
  "kernelspec": {
   "display_name": "rnd",
   "language": "python",
   "name": "python3"
  },
  "language_info": {
   "codemirror_mode": {
    "name": "ipython",
    "version": 3
   },
   "file_extension": ".py",
   "mimetype": "text/x-python",
   "name": "python",
   "nbconvert_exporter": "python",
   "pygments_lexer": "ipython3",
   "version": "3.11.6"
  }
 },
 "nbformat": 4,
 "nbformat_minor": 2
}
